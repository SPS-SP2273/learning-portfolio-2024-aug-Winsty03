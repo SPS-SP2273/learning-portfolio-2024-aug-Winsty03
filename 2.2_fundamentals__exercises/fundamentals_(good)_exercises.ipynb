{
 "cells": [
  {
   "cell_type": "markdown",
   "id": "123456",
   "metadata": {},
   "source": [
    "<div style=\"text-align:left;font-size:2em\"><span style=\"font-weight:bolder;font-size:1.25em\">SP2273 | Learning Portfolio</span><br><br><span style=\"font-weight:bold;color:darkred\">Fundamentals (Good) Exercises</span></div>"
   ]
  },
  {
   "cell_type": "markdown",
   "id": "3656df50",
   "metadata": {},
   "source": [
    "**Exercise 1**"
   ]
  },
  {
   "cell_type": "code",
   "execution_count": 2,
   "id": "09b4a252",
   "metadata": {},
   "outputs": [
    {
     "name": "stdout",
     "output_type": "stream",
     "text": [
      "Please provide me with a number?42\n",
      "You entered 42\n"
     ]
    }
   ],
   "source": [
    "user_input = input('Please provide me with a number?')\n",
    "print('You entered', user_input)"
   ]
  },
  {
   "cell_type": "code",
   "execution_count": 23,
   "id": "1673aefc",
   "metadata": {},
   "outputs": [
    {
     "name": "stdout",
     "output_type": "stream",
     "text": [
      "What is your name?winston\n",
      "How you doin WINSTON!\n"
     ]
    }
   ],
   "source": [
    "x = input('What is your name?')\n",
    "print('How you doin' , x.upper()+'!')"
   ]
  },
  {
   "cell_type": "code",
   "execution_count": 8,
   "id": "87a547f2",
   "metadata": {},
   "outputs": [
    {
     "name": "stdout",
     "output_type": "stream",
     "text": [
      "What is your name?winston\n",
      "What is your age?21\n",
      "My name is WINSTON and I am 21 years old.\n"
     ]
    }
   ],
   "source": [
    "x = input('What is your name?')\n",
    "y = input('What is your age?')\n",
    "print('My name is', x.upper(),'and I am', y.upper(), 'years old.')"
   ]
  },
  {
   "cell_type": "code",
   "execution_count": 5,
   "id": "489cd751",
   "metadata": {},
   "outputs": [
    {
     "name": "stdout",
     "output_type": "stream",
     "text": [
      "The value of pi to 2 decimal place is 3.14\n",
      "The value of pi to 3 decimal place is 3.142\n",
      "The value of pi to 4 decimal place is 3.1416\n"
     ]
    }
   ],
   "source": [
    "import numpy as py\n",
    "x = py.pi \n",
    "\n",
    "print(f\"The value of pi to 2 decimal place is {x:.2f}\")\n",
    "\n",
    "print(f\"The value of pi to 3 decimal place is {x:.3f}\")\n",
    "\n",
    "print(f\"The value of pi to 4 decimal place is {x:.4f}\")"
   ]
  },
  {
   "cell_type": "code",
   "execution_count": 18,
   "id": "d8280ab2",
   "metadata": {},
   "outputs": [
    {
     "name": "stdout",
     "output_type": "stream",
     "text": [
      "Apple      $ 0.99\n",
      "Banana     $ 0.59\n",
      "Orange     $ 1.29\n"
     ]
    }
   ],
   "source": [
    "print(f\"{\"Apple\":<10} ${\"0.99\":>5}\")\n",
    "print(f\"{\"Banana\":<10} ${\"0.59\":>5}\")\n",
    "print(f\"{\"Orange\":<10} ${\"1.29\":>5}\")\n"
   ]
  },
  {
   "cell_type": "code",
   "execution_count": 6,
   "id": "684c74b5",
   "metadata": {},
   "outputs": [
    {
     "name": "stdout",
     "output_type": "stream",
     "text": [
      "Enter the student's score: hello\n",
      "Key in a number!\n"
     ]
    }
   ],
   "source": [
    "try:\n",
    "    n = float(eval(input(\"Enter the student's score: \")))\n",
    "    if 70 <= n <=100:\n",
    "        print (\"The student's letter grade is: A\")\n",
    "    elif 50 <= n <=69:\n",
    "        print (\"The student's letter grade is: B\")\n",
    "    elif 35 <= n <=49:\n",
    "        print (\"The student's letter grade is: C\")\n",
    "    elif 0 <= n <=34:\n",
    "        print (\"The student's letter grade is: fail\")\n",
    "    else:\n",
    "        print(\"Key in a score between 0 to 100!\")\n",
    "except NameError:\n",
    "    print(\"Key in a number!\")\n"
   ]
  },
  {
   "cell_type": "code",
   "execution_count": 92,
   "id": "12d4b498",
   "metadata": {},
   "outputs": [
    {
     "name": "stdout",
     "output_type": "stream",
     "text": [
      "120\n",
      "Invalid input\n"
     ]
    }
   ],
   "source": [
    "def factorial(n):\n",
    "    if n < 0:\n",
    "        return \"Invalid input\"\n",
    "    elif n == 0:\n",
    "        return 1\n",
    "    else:\n",
    "        result = 1\n",
    "        for number in range(1, n+1):\n",
    "            result *= number\n",
    "        return result\n",
    "\n",
    "\n",
    "print(factorial(5))   # Testing, expected output: 120\n",
    "print(factorial(-1))  # Testing, expected output: Invalid input"
   ]
  }
 ],
 "metadata": {
  "kernelspec": {
   "display_name": "Python 3 (ipykernel)",
   "language": "python",
   "name": "python3"
  },
  "language_info": {
   "codemirror_mode": {
    "name": "ipython",
    "version": 3
   },
   "file_extension": ".py",
   "mimetype": "text/x-python",
   "name": "python",
   "nbconvert_exporter": "python",
   "pygments_lexer": "ipython3",
   "version": "3.12.3"
  },
  "toc": {
   "base_numbering": 1,
   "nav_menu": {},
   "number_sections": true,
   "sideBar": true,
   "skip_h1_title": false,
   "title_cell": "Table of Contents",
   "title_sidebar": "Contents",
   "toc_cell": false,
   "toc_position": {},
   "toc_section_display": true,
   "toc_window_display": false
  },
  "vscode": {
   "interpreter": {
    "hash": "31f2aee4e71d21fbe5cf8b01ff0e069b9275f58929596ceb00d14d90e3e16cd6"
   }
  }
 },
 "nbformat": 4,
 "nbformat_minor": 5
}
