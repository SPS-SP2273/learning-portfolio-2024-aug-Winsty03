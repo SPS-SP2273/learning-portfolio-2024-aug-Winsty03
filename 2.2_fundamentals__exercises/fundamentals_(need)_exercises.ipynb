{
 "cells": [
  {
   "cell_type": "markdown",
   "id": "123456",
   "metadata": {},
   "source": [
    "<div style=\"text-align:left;font-size:2em\"><span style=\"font-weight:bolder;font-size:1.25em\">SP2273 | Learning Portfolio</span><br><br><span style=\"font-weight:bold;color:darkred\">Fundamentals (Need) Exercises</span></div>"
   ]
  },
  {
   "cell_type": "markdown",
   "id": "e2fb07c0",
   "metadata": {},
   "source": [
    "**Exercise 1**"
   ]
  },
  {
   "cell_type": "markdown",
   "id": "5ce0eb56",
   "metadata": {},
   "source": [
    "1. Python takes in  functions such as print(' ')\n",
    "2. Python reads commands one line at a time, from top to bottom.\n",
    "3. Python is case-sensitive \n",
    "4. Ability to use # as comments in code,\n",
    "5. Python has the ability to accept boolean expression,, 'and', 'or', 'not'\n",
    "6. Python can make decisions using 'if' function\n",
    "7. Indentations are important in python *: is used to designate a block of code*\n",
    "8. The use of ' ' is important in differentiating between a string or a variable. \n",
    "9. Python uses 3 types of brackets () to call functions and used in mathematics equations, [] to indicate a list and {} stores data as a dictionary. \n",
    "10. Python accepts packages, which are new functions that can be imported for usage by python. This is important as python does not necessarily have certain built-in functions.\n",
    "11. the dot '.' is to indicate ownership that a certain function belongs to a certain package. \n",
    "\n",
    "*12. = is not the same as ==, where = is used to assign a value, while == is used to check if something is equal*\n"
   ]
  },
  {
   "cell_type": "markdown",
   "id": "a6a6c9bb",
   "metadata": {},
   "source": [
    "**Exercise 2**"
   ]
  },
  {
   "cell_type": "code",
   "execution_count": 13,
   "id": "3b54c406",
   "metadata": {},
   "outputs": [
    {
     "name": "stdout",
     "output_type": "stream",
     "text": [
      "3 4 5\n"
     ]
    }
   ],
   "source": [
    "import numpy as py\n",
    "x, y = 3, 4\n",
    "z = int(py.sqrt(x**2 + y**2))\n",
    "print(x, y, z)"
   ]
  },
  {
   "cell_type": "markdown",
   "id": "859ffd2e",
   "metadata": {},
   "source": [
    "**Exercise 3**"
   ]
  },
  {
   "cell_type": "markdown",
   "id": "f255b4ff",
   "metadata": {},
   "source": [
    "| **#** | **Term**     | **Descirption**                                                                                                        |\n",
    "|:------|:-------------|:-----------------------------------------------------------------------------------------------------------------------|\n",
    "| 1     | Function     | It executes a specific task.                                                                                           |\n",
    "| 2     | Arguments    | Input given to a function.                                                                                             |\n",
    "| 3     | Comments     | To emphasize the purpose of the code.                                                                                  |\n",
    "| 4     | Indentations | Indentations are used to separate between  True and False blocks                                                       |\n",
    "| 5     | Packages     | Packages are bundles of functions that can be imported into python, as those functions  may not be in-built in python. |\n",
    "| 6     | .            | To indicate ownership to a function.                                                                                   |\n",
    "| 7     | :            | Used to designate a block of code.                                                                                     |\n",
    "| 8     | []           | For a list of data, a 1D list                                                                                          |\n",
    "| 9     | [[],[]]      | A 2D list                                                                                                              |\n",
    "| 10    | {}           | Storage of data in a dictionary with a key and corresponding value.                                                    |"
   ]
  },
  {
   "cell_type": "markdown",
   "id": "e2eab5a5",
   "metadata": {},
   "source": [
    "**Exercise 4**"
   ]
  },
  {
   "cell_type": "code",
   "execution_count": 17,
   "id": "46964f5a",
   "metadata": {},
   "outputs": [
    {
     "data": {
      "text/plain": [
       "2.5"
      ]
     },
     "execution_count": 17,
     "metadata": {},
     "output_type": "execute_result"
    }
   ],
   "source": [
    "5/2 #Normal Division giving a float value."
   ]
  },
  {
   "cell_type": "code",
   "execution_count": 18,
   "id": "6fab0f07",
   "metadata": {},
   "outputs": [
    {
     "data": {
      "text/plain": [
       "2"
      ]
     },
     "execution_count": 18,
     "metadata": {},
     "output_type": "execute_result"
    }
   ],
   "source": [
    "5//2 #Division that rounds down the answer to a integer value."
   ]
  },
  {
   "cell_type": "code",
   "execution_count": 19,
   "id": "509648bf",
   "metadata": {},
   "outputs": [
    {
     "data": {
      "text/plain": [
       "1"
      ]
     },
     "execution_count": 19,
     "metadata": {},
     "output_type": "execute_result"
    }
   ],
   "source": [
    "5%2 #Gives the remainder of 5 divided by 2. "
   ]
  }
 ],
 "metadata": {
  "kernelspec": {
   "display_name": "Python 3 (ipykernel)",
   "language": "python",
   "name": "python3"
  },
  "language_info": {
   "codemirror_mode": {
    "name": "ipython",
    "version": 3
   },
   "file_extension": ".py",
   "mimetype": "text/x-python",
   "name": "python",
   "nbconvert_exporter": "python",
   "pygments_lexer": "ipython3",
   "version": "3.12.3"
  },
  "toc": {
   "base_numbering": 1,
   "nav_menu": {},
   "number_sections": true,
   "sideBar": true,
   "skip_h1_title": false,
   "title_cell": "Table of Contents",
   "title_sidebar": "Contents",
   "toc_cell": false,
   "toc_position": {},
   "toc_section_display": true,
   "toc_window_display": false
  },
  "vscode": {
   "interpreter": {
    "hash": "31f2aee4e71d21fbe5cf8b01ff0e069b9275f58929596ceb00d14d90e3e16cd6"
   }
  }
 },
 "nbformat": 4,
 "nbformat_minor": 5
}
