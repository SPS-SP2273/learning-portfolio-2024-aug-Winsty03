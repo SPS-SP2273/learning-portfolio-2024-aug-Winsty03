{
 "cells": [
  {
   "cell_type": "code",
   "execution_count": 2,
   "id": "1063b01c-c029-4954-a008-a315bd18291b",
   "metadata": {},
   "outputs": [
    {
     "name": "stdout",
     "output_type": "stream",
     "text": [
      "Hello World\n"
     ]
    }
   ],
   "source": [
    "print('Hello World')"
   ]
  },
  {
   "cell_type": "markdown",
   "id": "dea64a18-9c47-445e-bf3f-c73e418dfb8b",
   "metadata": {},
   "source": [
    "The ships hung in the sky in much the same way that bricks don’t."
   ]
  },
  {
   "cell_type": "markdown",
   "id": "7dbf4876-9c8a-4c15-9d84-bf3b090e2958",
   "metadata": {},
   "source": [
    "The ships *hung in the sky* in much the same way that **bricks don't**<sup>1</sup><sub>QUOTE</sub>"
   ]
  },
  {
   "cell_type": "code",
   "execution_count": 1,
   "id": "9cfad250-a2fb-4e4e-92cf-a9af388e8fa9",
   "metadata": {},
   "outputs": [
    {
     "name": "stdout",
     "output_type": "stream",
     "text": [
      "45.1 ns ± 4.47 ns per loop (mean ± std. dev. of 7 runs, 10,000,000 loops each)\n"
     ]
    }
   ],
   "source": [
    "%timeit x=10"
   ]
  },
  {
   "cell_type": "markdown",
   "id": "9678f41a-a97e-4833-a677-b4b7c406a332",
   "metadata": {},
   "source": [
    "\n",
    "<div style=style=\"font-size: 100px\">\n",
    "    \n",
    "<h1><center>Test</center></h1>\n",
    "\n",
    "</div>\n"
   ]
  },
  {
   "cell_type": "code",
   "execution_count": null,
   "id": "52b0e595-11df-431a-b2a0-0116f5aa6ef4",
   "metadata": {},
   "outputs": [],
   "source": []
  },
  {
   "cell_type": "code",
   "execution_count": null,
   "id": "151c12a5-0d2e-456b-8ea3-72eff54a164e",
   "metadata": {},
   "outputs": [],
   "source": []
  }
 ],
 "metadata": {
  "kernelspec": {
   "display_name": "Python 3 (ipykernel)",
   "language": "python",
   "name": "python3"
  },
  "language_info": {
   "codemirror_mode": {
    "name": "ipython",
    "version": 3
   },
   "file_extension": ".py",
   "mimetype": "text/x-python",
   "name": "python",
   "nbconvert_exporter": "python",
   "pygments_lexer": "ipython3",
   "version": "3.12.3"
  }
 },
 "nbformat": 4,
 "nbformat_minor": 5
}
