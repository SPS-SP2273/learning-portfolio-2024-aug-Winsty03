{
 "cells": [
  {
   "cell_type": "markdown",
   "id": "123456",
   "metadata": {},
   "source": [
    "<div style=\"text-align:left;font-size:2em\"><span style=\"font-weight:bolder;font-size:1.25em\">SP2273 | Learning Portfolio</span><br><br><span style=\"font-weight:bold;color:darkred\">Using Jupyter (Need), Exercises</span></div>"
   ]
  },
  {
   "cell_type": "markdown",
   "id": "f97ab0f5",
   "metadata": {},
   "source": [
    "## 1 Quadratic Equations"
   ]
  },
  {
   "cell_type": "markdown",
   "id": "c1f0a09b",
   "metadata": {},
   "source": [
    "### Introduction"
   ]
  },
  {
   "cell_type": "markdown",
   "id": "49456300-c251-44af-a00a-4d01674c7105",
   "metadata": {
    "jp-MarkdownHeadingCollapsed": true
   },
   "source": [
    " ![](https://upload.wikimedia.org/wikipedia/commons/thumb/f/f8/Polynomialdeg2.svg/1920px-Polynomialdeg2.svg.png)\n",
    "#### (image from the [Wikipedia page on Quadratic equations](https://en.wikipedia.org/wiki/Quadratic_equation))\n",
    "\n",
    "The general form of a quadratic equation is:\n",
    "<h1><center>\n",
    "    $$\n",
    "        ax^{2} + bx + c\n",
    "    $$\n",
    "</center></h1>"
   ]
  },
  {
   "cell_type": "markdown",
   "id": "76a4f6ad",
   "metadata": {},
   "source": [
    "### Solutions"
   ]
  },
  {
   "cell_type": "markdown",
   "id": "e56cccb0",
   "metadata": {},
   "source": [
    " Provided  $a \\ne 0$, we can use an elementary algebraic method called [completing the square](https://en.wikipedia.org/wiki/Completing_the_square) to show that a quadratic equation has the following solution:\n",
    "\n",
    "<h1><center>\n",
    "    $$\n",
    "        x = \\dfrac{-b \\pm \\sqrt{b^2 - 4ac}}{2a}\n",
    "    $$\n",
    "</center></h1>"
   ]
  },
  {
   "cell_type": "markdown",
   "id": "ea162e4a",
   "metadata": {},
   "source": [
    "### Discriminant"
   ]
  },
  {
   "cell_type": "markdown",
   "id": "7814d125",
   "metadata": {},
   "source": [
    "The quantity $\\Delta = b^{2} - 4ac $ is called the **discriminant** of the equation and decides the nature of its solutions. The table below shows the various possibilities.\n",
    "\n",
    "\n",
    "\n",
    "\n",
    "| Discriminant                 | Roots                                |\n",
    "|-----------------------------:|:-------------------------------------|\n",
    "| $ \\Delta = b^{2}-4ac=0 $     | A single solution of -$b/(2a)$       |\n",
    "| $ \\Delta = b^{2}-4ac \\gt 0 $ | Two distinct solutions               |\n",
    "| $ \\Delta = b^{2}-4ac \\lt 0 $ | No real solutions; both are complex. |\n",
    "\n",
    "|Discriminant |Roots |\n",
    "|:---:|:---|\n",
    "|$$\\Delta = b^{2}-4ac=0 $$| A single solution of $-b/(2a)$ |\n",
    "|$$ \\Delta = b^{2}-4ac \\gt 0 $$| Two distinct solutions |\n",
    "|$$\\Delta = b^{2}-4ac \\lt 0 $$| No real solutions; both are complex. |\n"
   ]
  },
  {
   "cell_type": "markdown",
   "id": "bcb26eec",
   "metadata": {},
   "source": [
    "**Exercise 2**\n",
    "\n",
    "1. A Git repository is a folder where your files that you write code on are stored.\n",
    "2. Git keeps track of the changes we made to our code in the files in our repository. \n",
    "3. A commit is when you want to save the current edits you made in your code into your local GitHub on your desktop.\n",
    "4. A push is to send the saved edited code to the GitHub server, the 73 Github Classroom, to have a copy stored in the server.\n",
    "5. A pull is to retrieve the selected files from the GitHub server and to have the copy trasnfered back into your local Github Deskstop. \n",
    "6. The difference is that GitHub Deskstop is the local environment where you can monitor the edits for your code without having the edits reflected in the server unless you save it there. While GitHub is the server where your code is securedly stored. "
   ]
  },
  {
   "cell_type": "markdown",
   "id": "f80919f5",
   "metadata": {},
   "source": [
    "**Exercise 3**\n",
    "\n",
    "$$\n",
    "    \\mu = \\dfrac{1}{n}\\sum \\limits_{i=1}^{n}x_i \n",
    "$$\n",
    "<br> \n",
    "$$\n",
    "    \\sigma = \\sqrt{\\dfrac{1}{n}\\sum \\limits_{i=1}^{n}(x_i - \\mu)^2}\n",
    "$$\n",
    "<br>\n",
    "$$\n",
    "    r = \\dfrac{\\sum_{i=1}^{n}(x_i - \\mu_X)(y_i - \\mu_Y)}{\\sqrt{\\sum_{i=1}^{n}(x_i - \\mu_X)^2 \\sum_ {i=1}^{n}(y_i - \\mu_Y)^2}}\n",
    "$$"
   ]
  }
 ],
 "metadata": {
  "kernelspec": {
   "display_name": "Python 3 (ipykernel)",
   "language": "python",
   "name": "python3"
  },
  "language_info": {
   "codemirror_mode": {
    "name": "ipython",
    "version": 3
   },
   "file_extension": ".py",
   "mimetype": "text/x-python",
   "name": "python",
   "nbconvert_exporter": "python",
   "pygments_lexer": "ipython3",
   "version": "3.12.3"
  },
  "toc": {
   "base_numbering": 1,
   "nav_menu": {},
   "number_sections": true,
   "sideBar": true,
   "skip_h1_title": false,
   "title_cell": "Table of Contents",
   "title_sidebar": "Contents",
   "toc_cell": false,
   "toc_position": {},
   "toc_section_display": true,
   "toc_window_display": false
  },
  "vscode": {
   "interpreter": {
    "hash": "31f2aee4e71d21fbe5cf8b01ff0e069b9275f58929596ceb00d14d90e3e16cd6"
   }
  }
 },
 "nbformat": 4,
 "nbformat_minor": 5
}
