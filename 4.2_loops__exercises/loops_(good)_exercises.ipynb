{
 "cells": [
  {
   "cell_type": "markdown",
   "id": "123456",
   "metadata": {},
   "source": [
    "<div style=\"text-align:left;font-size:2em\"><span style=\"font-weight:bolder;font-size:1.25em\">SP2273 | Learning Portfolio</span><br><br><span style=\"font-weight:bold;color:darkred\">Loops (Good) Exercises</span></div>"
   ]
  },
  {
   "cell_type": "markdown",
   "id": "6bd5e289",
   "metadata": {},
   "source": [
    "**Exercise 1**"
   ]
  },
  {
   "cell_type": "code",
   "execution_count": 24,
   "id": "4dd3ca6e",
   "metadata": {
    "scrolled": true
   },
   "outputs": [
    {
     "name": "stdout",
     "output_type": "stream",
     "text": [
      "[1, 9, 25, 49, 81]\n"
     ]
    }
   ],
   "source": [
    "list = []\n",
    "for number in range(10):\n",
    "    if number % 2 ==0:\n",
    "        continue\n",
    "        \n",
    "    number **=2\n",
    " \n",
    "    list.append(number)\n",
    "print(list)"
   ]
  },
  {
   "cell_type": "markdown",
   "id": "ea53e3ce",
   "metadata": {},
   "source": [
    "**Exercise 2**"
   ]
  },
  {
   "cell_type": "code",
   "execution_count": 22,
   "id": "503f4c72",
   "metadata": {},
   "outputs": [
    {
     "data": {
      "text/plain": [
       "[1, 9, 25, 49, 81]"
      ]
     },
     "execution_count": 22,
     "metadata": {},
     "output_type": "execute_result"
    }
   ],
   "source": [
    "[number**2 for number in range(10) if number %2 != 0]"
   ]
  },
  {
   "cell_type": "markdown",
   "id": "6d093170",
   "metadata": {},
   "source": [
    "**Exercise 3**"
   ]
  },
  {
   "cell_type": "code",
   "execution_count": 25,
   "id": "fca09ce4",
   "metadata": {},
   "outputs": [
    {
     "name": "stdout",
     "output_type": "stream",
     "text": [
      "902 ns ± 80.9 ns per loop (mean ± std. dev. of 7 runs, 1,000,000 loops each)\n"
     ]
    }
   ],
   "source": [
    "%%timeit \n",
    "[number**2 for number in range(10) if number %2 != 0]"
   ]
  },
  {
   "cell_type": "code",
   "execution_count": 26,
   "id": "6450b917",
   "metadata": {},
   "outputs": [
    {
     "name": "stdout",
     "output_type": "stream",
     "text": [
      "1.02 μs ± 53 ns per loop (mean ± std. dev. of 7 runs, 1,000,000 loops each)\n"
     ]
    }
   ],
   "source": [
    "%%timeit\n",
    "list = []\n",
    "for number in range(10):\n",
    "    if number % 2 ==0:\n",
    "        continue\n",
    "        \n",
    "    number **=2\n",
    " \n",
    "    list.append(number)"
   ]
  },
  {
   "cell_type": "markdown",
   "id": "97784788",
   "metadata": {},
   "source": [
    "The code using list comprehension in exericse 2 ran faster, at 902 nanoseconds per loop, while the code from exercise 1 took 1.02 microseconds per loop."
   ]
  },
  {
   "cell_type": "markdown",
   "id": "8c98b885",
   "metadata": {},
   "source": [
    "**Exercise 4**"
   ]
  },
  {
   "cell_type": "code",
   "execution_count": 37,
   "id": "d843ca59",
   "metadata": {},
   "outputs": [
    {
     "name": "stdout",
     "output_type": "stream",
     "text": [
      "14 years\n"
     ]
    }
   ],
   "source": [
    "substance = 100\n",
    "years = 0\n",
    "while substance >= 50:\n",
    "    substance = (95/100)*substance\n",
    "    years += 1\n",
    "    \n",
    "print(years,'years')"
   ]
  },
  {
   "cell_type": "markdown",
   "id": "567297e2",
   "metadata": {},
   "source": [
    "**Exercise 5**"
   ]
  },
  {
   "cell_type": "code",
   "execution_count": 91,
   "id": "23e6e4b4",
   "metadata": {},
   "outputs": [
    {
     "name": "stdout",
     "output_type": "stream",
     "text": [
      "2015/2016: +3.41ppm\n"
     ]
    }
   ],
   "source": [
    "co2_data = [\n",
    "    (2000, 369.55), (2001, 371.14), (2002, 373.28), \n",
    "    (2003, 375.80), (2004, 377.52), (2005, 379.80), \n",
    "    (2006, 381.90), (2007, 383.79), (2008, 385.60), \n",
    "    (2009, 387.43), (2010, 389.90), (2011, 391.65), \n",
    "    (2012, 393.85), (2013, 396.52), (2014, 398.65),\n",
    "    (2015, 400.83), (2016, 404.24), (2017, 406.55), \n",
    "    (2018, 408.52), (2019, 411.44), (2020, 414.24)\n",
    "]\n",
    "\n",
    "counter = 0\n",
    "for year, CO2_level in co2_data:\n",
    "    if counter == len(co2_data) - 1:  #len(co2_data) - 1 because the list has 21 varaibles and below                             \n",
    "        break                         #co2_data[counter +1] has a range till co2_data[20], stop loop at \n",
    "                                      #[counter + 1] = 20\n",
    "    diff_in_co2 = (co2_data[counter + 1][1]) - (CO2_level)  #diff between the current year in the loop and the year after\n",
    "    \n",
    "    if  diff_in_co2 >= 3:\n",
    "        print(f'{year}/'+str(co2_data[counter + 1][0])+':','+' + f'{diff_in_co2:.2f}'+'ppm')\n",
    "                                      #made co2_data a str to join the varaibles together for aesthetic purposes..\n",
    "            \n",
    "    counter += 1\n",
    "    \n",
    "    "
   ]
  }
 ],
 "metadata": {
  "kernelspec": {
   "display_name": "Python 3 (ipykernel)",
   "language": "python",
   "name": "python3"
  },
  "language_info": {
   "codemirror_mode": {
    "name": "ipython",
    "version": 3
   },
   "file_extension": ".py",
   "mimetype": "text/x-python",
   "name": "python",
   "nbconvert_exporter": "python",
   "pygments_lexer": "ipython3",
   "version": "3.12.3"
  },
  "toc": {
   "base_numbering": 1,
   "nav_menu": {},
   "number_sections": true,
   "sideBar": true,
   "skip_h1_title": false,
   "title_cell": "Table of Contents",
   "title_sidebar": "Contents",
   "toc_cell": false,
   "toc_position": {},
   "toc_section_display": true,
   "toc_window_display": false
  },
  "vscode": {
   "interpreter": {
    "hash": "31f2aee4e71d21fbe5cf8b01ff0e069b9275f58929596ceb00d14d90e3e16cd6"
   }
  }
 },
 "nbformat": 4,
 "nbformat_minor": 5
}
