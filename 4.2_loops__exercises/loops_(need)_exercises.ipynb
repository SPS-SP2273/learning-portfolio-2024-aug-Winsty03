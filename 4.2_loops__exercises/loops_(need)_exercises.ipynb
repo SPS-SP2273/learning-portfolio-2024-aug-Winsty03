{
 "cells": [
  {
   "cell_type": "markdown",
   "id": "123456",
   "metadata": {},
   "source": [
    "<div style=\"text-align:left;font-size:2em\"><span style=\"font-weight:bolder;font-size:1.25em\">SP2273 | Learning Portfolio</span><br><br><span style=\"font-weight:bold;color:darkred\">Loops (Need) Exercises</span></div>"
   ]
  },
  {
   "cell_type": "markdown",
   "id": "b0b175b4",
   "metadata": {},
   "source": [
    "**Exercise 1**"
   ]
  },
  {
   "cell_type": "code",
   "execution_count": 1,
   "id": "3855fab7",
   "metadata": {},
   "outputs": [
    {
     "name": "stdout",
     "output_type": "stream",
     "text": [
      "0°C/32.0°F\n",
      "5°C/41.0°F\n",
      "10°C/50.0°F\n",
      "15°C/59.0°F\n",
      "20°C/68.0°F\n",
      "25°C/77.0°F\n",
      "30°C/86.0°F\n",
      "35°C/95.0°F\n",
      "40°C/104.0°F\n",
      "45°C/113.0°F\n",
      "50°C/122.0°F\n"
     ]
    }
   ],
   "source": [
    "temperatures_celsius = [\n",
    "    0, 5, 10, 15, 20, 25,\n",
    "    30, 35, 40, 45, 50\n",
    "]\n",
    "\n",
    "d = '\\u00b0'  #unicode for degree symbol\n",
    "\n",
    "for celsius in temperatures_celsius:\n",
    "    fahrenheit = (9/5)*celsius + 32\n",
    "    print(f'{celsius}'+ d +'C' + '/' + f'{fahrenheit}'+ d +'F')"
   ]
  },
  {
   "cell_type": "markdown",
   "id": "acad34f8",
   "metadata": {},
   "source": [
    "**Exercise 2**"
   ]
  },
  {
   "cell_type": "code",
   "execution_count": 9,
   "id": "67f4d136",
   "metadata": {},
   "outputs": [
    {
     "name": "stdout",
     "output_type": "stream",
     "text": [
      "1: 1\t2\t3\t4\t5\t\n",
      "\n",
      "2: 2\t4\t6\t8\t10\t\n",
      "\n",
      "3: 3\t6\t9\t12\t15\t\n",
      "\n",
      "4: 4\t8\t12\t16\t20\t\n",
      "\n",
      "5: 5\t10\t15\t20\t25\t\n",
      "\n"
     ]
    }
   ],
   "source": [
    "import numpy as np\n",
    "\n",
    "numbers= np.array([1,2,3,4,5])\n",
    "\n",
    "for count, number in enumerate(numbers, 1):\n",
    "    print(f'{count}:', end =' ')\n",
    "    for i in range(1,6):\n",
    "        result = number * i \n",
    "        print(f'{result}', end='\\t')\n",
    "    print('\\n')\n"
   ]
  },
  {
   "cell_type": "markdown",
   "id": "7bd9bd7a",
   "metadata": {},
   "source": [
    "**Exercise 3**"
   ]
  },
  {
   "cell_type": "code",
   "execution_count": 37,
   "id": "3398ca7a",
   "metadata": {
    "scrolled": true
   },
   "outputs": [
    {
     "name": "stdout",
     "output_type": "stream",
     "text": [
      "Experiment 1 : No. of Heads =  5\n",
      "Experiment 2 : No. of Heads =  4\n",
      "Experiment 3 : No. of Heads =  8\n",
      "Experiment 4 : No. of Heads =  4\n",
      "Experiment 5 : No. of Heads =  2\n",
      "Experiment 6 : No. of Heads =  6\n",
      "Experiment 7 : No. of Heads =  5\n",
      "Experiment 8 : No. of Heads =  6\n",
      "Experiment 9 : No. of Heads =  4\n",
      "Experiment 10 : No. of Heads =  3\n"
     ]
    }
   ],
   "source": [
    "import numpy as np \n",
    "\n",
    "for i in range(1,11):\n",
    "    coin = np.random.rand(10)\n",
    "    heads = 0\n",
    "    for j in coin:       \n",
    "        if j >= 0.5:\n",
    "            heads += 1\n",
    "    print(f'Experiment', i , ': No. of Heads = ', heads)\n"
   ]
  }
 ],
 "metadata": {
  "kernelspec": {
   "display_name": "Python 3 (ipykernel)",
   "language": "python",
   "name": "python3"
  },
  "language_info": {
   "codemirror_mode": {
    "name": "ipython",
    "version": 3
   },
   "file_extension": ".py",
   "mimetype": "text/x-python",
   "name": "python",
   "nbconvert_exporter": "python",
   "pygments_lexer": "ipython3",
   "version": "3.12.3"
  },
  "toc": {
   "base_numbering": 1,
   "nav_menu": {},
   "number_sections": true,
   "sideBar": true,
   "skip_h1_title": false,
   "title_cell": "Table of Contents",
   "title_sidebar": "Contents",
   "toc_cell": false,
   "toc_position": {},
   "toc_section_display": true,
   "toc_window_display": false
  },
  "vscode": {
   "interpreter": {
    "hash": "31f2aee4e71d21fbe5cf8b01ff0e069b9275f58929596ceb00d14d90e3e16cd6"
   }
  }
 },
 "nbformat": 4,
 "nbformat_minor": 5
}
