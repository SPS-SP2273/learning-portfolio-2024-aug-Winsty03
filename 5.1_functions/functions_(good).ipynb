{
 "cells": [
  {
   "cell_type": "markdown",
   "id": "123456",
   "metadata": {},
   "source": [
    "<div style=\"text-align:left;font-size:2em\"><span style=\"font-weight:bolder;font-size:1.25em\">SP2273 | Learning Portfolio</span><br><br><span style=\"font-weight:bold;color:darkred\">Functions (Good)</span></div>"
   ]
  },
  {
   "cell_type": "markdown",
   "id": "4f51ea8e",
   "metadata": {},
   "source": [
    "# What to expect in this chapter"
   ]
  },
  {
   "cell_type": "markdown",
   "id": "a7a890b3",
   "metadata": {},
   "source": [
    "# 1 Checks, balances, and contingencies"
   ]
  },
  {
   "cell_type": "code",
   "execution_count": null,
   "id": "b7ffcdb4",
   "metadata": {},
   "outputs": [],
   "source": [
    "def convert_celsius(temperature_celsius, target_scale):\n",
    "    target = target_scale()\n",
    "    if target in [\"K\", \"Kelvin\"]:\n",
    "        temperature_converted = temperature_celsius + 273.15\n",
    "        print(f\"{temperature_converted:.3f}K\")\n",
    "    else:\n",
    "        temperature_converted = (9/5)*(temperature_celsius) + 32\n",
    "        print(f\"{temperature_converted:.3f}\"+d+\"F\")\n",
    "        \n",
    "def target_scale():\n",
    "    n = input(\"Key in K or kelvin to convert to kelvin instead \")\n",
    "    n = n.upper()\n",
    "    return n \n",
    "\n",
    "\n",
    "d = \"\\u00b0\" #unicode for degree symbol\n",
    "while True:\n",
    "    try:\n",
    "        temperature_celsius = float(input(\"Temperature in Celsius to be converted to Fahrenheit:\"))\n",
    "        break\n",
    "    except ValueError:\n",
    "        print(\"Invalid Input! Try Again!\")\n",
    "        \n",
    "convert_celsius(temperature_celsius, target_scale)\n"
   ]
  },
  {
   "cell_type": "code",
   "execution_count": null,
   "id": "d9e6f475",
   "metadata": {},
   "outputs": [],
   "source": [
    "def convert_fahrenheit(temperature_fahrenheit, target_scale):\n",
    "    target = target_scale()\n",
    "    if target in [\"K\", \"KELVIN\"]:\n",
    "        temperature_converted = ((temperature_fahrenheit-32)*(5/9))+273.15\n",
    "        print(f\"{temperature_converted:.3f}K\")\n",
    "    else:\n",
    "        temperature_converted = (temperature_fahrenheit-32)*(5/9)\n",
    "        print(f\"{temperature_converted:.3f}\"+d+\"C\")\n",
    "        \n",
    "def target_scale():\n",
    "    n = input(\"Key in K or kelvin to convert to kelvin instead\")\n",
    "    n = n.upper()\n",
    "    return n\n",
    "\n",
    "d = \"\\u00b0\" #unicode for degree symbol\n",
    "while True:\n",
    "    try:\n",
    "        temperature_fahrenheit = float(input(\"Temperature in Fahrenheit to be converted to Celsius:\"))\n",
    "        break\n",
    "    except ValueError:\n",
    "        print(\"Invalid Input! Try Again!\")\n",
    "\n",
    "convert_fahrenheit(temperature_fahrenheit, target_scale)"
   ]
  },
  {
   "cell_type": "code",
   "execution_count": null,
   "id": "a3cc22c5",
   "metadata": {},
   "outputs": [],
   "source": [
    "def convert_temperature(temperature, source_scale, target_scale):\n",
    "    source = source_scale() #Storing the function outputs into a variable which can be used later\n",
    "    target = target_scale() \n",
    "    if source in [\"C\", \"CELSIUS\"]:\n",
    "        convert_celsius(temperature, target)\n",
    "    elif source in [\"F\", \"FAHRENHEIT\"]:\n",
    "        convert_fahrenheit(temperature, target)\n",
    "    elif source in [\"K\",\"KELVIN\"]:\n",
    "        if target in [\"C\", \"CELSIUS\"]:\n",
    "            converted_temperature = temperature - 273.15\n",
    "            print(f\"{converted_temperature:.3f}\"+d+\"C\")\n",
    "        elif target in [\"F\", \"FAHRENHEIT\"]:\n",
    "            converted_temperature = ((temperature - 273.15)*(9/5)) + 32 \n",
    "            print(f\"{converted_temperature:.3f}\"+d+\"F\")\n",
    "               \n",
    "def source_scale(): \n",
    "    while True:\n",
    "        n = input(\"Unit of temperature keyed in? \")\n",
    "        n = n.upper()\n",
    "        if n in [\"C\", \"CELSIUS\", \"K\", \"KELVIN\", \"F\", \"FAHRENHEIT\"]:\n",
    "            return n\n",
    "        else: \n",
    "            print(\"Invalid Input!\")  \n",
    "    \n",
    "def target_scale():\n",
    "    while True:\n",
    "        n = input(\"What do you want to convert it to? \")\n",
    "        n = n.upper()\n",
    "        if n in [\"C\", \"CELSIUS\", \"K\", \"KELVIN\", \"F\", \"FAHRENHEIT\"]:\n",
    "            return n\n",
    "        else:\n",
    "            print(\"Invalid Input!\")\n",
    "    \n",
    "    \n",
    "def convert_celsius(temperature_celsius, target_scale):\n",
    "    if target_scale in [\"K\", \"Kelvin\"]:\n",
    "        temperature_converted = temperature_celsius + 273.15\n",
    "        print(f\"{temperature_converted:.3f}K\")\n",
    "    else:\n",
    "        temperature_converted = (9/5)*(temperature_celsius) + 32\n",
    "        print(f\"{temperature_converted:.3f}\"+d+\"F\")\n",
    "        \n",
    "def convert_fahrenheit(temperature_fahrenheit, target_scale):\n",
    "    if target_scale in [\"K\", \"KELVIN\"]:\n",
    "        temperature_converted = ((temperature_fahrenheit-32)*(5/9))+273.15\n",
    "        print(f\"{temperature_converted:.3f}K\")\n",
    "    else:\n",
    "        temperature_converted = (temperature_fahrenheit-32)*(5/9)\n",
    "        print(f\"{temperature_converted:.3f}\"+d+\"C\")\n",
    "        \n",
    "d = \"\\u00b0\" #unicode for degree symbol    \n",
    "\n",
    "while True:\n",
    "    try:\n",
    "        temperature = float(input(\"Temperature to be converted:\"))\n",
    "        break\n",
    "    except ValueError:\n",
    "        print(\"Invalid Input! Try Again!\")\n",
    "\n",
    "convert_temperature(temperature, source_scale, target_scale)"
   ]
  },
  {
   "cell_type": "markdown",
   "id": "0867c3f5",
   "metadata": {},
   "source": [
    "## 1.1 assert"
   ]
  },
  {
   "cell_type": "markdown",
   "id": "82e13d07",
   "metadata": {},
   "source": [
    "## 1.2 try-except"
   ]
  },
  {
   "cell_type": "markdown",
   "id": "8b8a336e",
   "metadata": {},
   "source": [
    "## 1.3 A simple suggestion"
   ]
  },
  {
   "cell_type": "markdown",
   "id": "e66b1c8d",
   "metadata": {},
   "source": [
    "# 2 Some loose ends"
   ]
  },
  {
   "cell_type": "markdown",
   "id": "00631092",
   "metadata": {},
   "source": [
    "## 2.1 Positional, keyword and default arguments"
   ]
  },
  {
   "cell_type": "markdown",
   "id": "d751f725",
   "metadata": {},
   "source": [
    "## 2.2 Docstrings"
   ]
  },
  {
   "cell_type": "markdown",
   "id": "03ead463",
   "metadata": {},
   "source": [
    "## 2.3 Function are first-class citizens"
   ]
  },
  {
   "cell_type": "markdown",
   "id": "67f7e01e",
   "metadata": {},
   "source": [
    "## 2.4 More about unpacking"
   ]
  }
 ],
 "metadata": {
  "kernelspec": {
   "display_name": "Python 3 (ipykernel)",
   "language": "python",
   "name": "python3"
  },
  "language_info": {
   "codemirror_mode": {
    "name": "ipython",
    "version": 3
   },
   "file_extension": ".py",
   "mimetype": "text/x-python",
   "name": "python",
   "nbconvert_exporter": "python",
   "pygments_lexer": "ipython3",
   "version": "3.12.3"
  },
  "toc": {
   "base_numbering": 1,
   "nav_menu": {},
   "number_sections": true,
   "sideBar": true,
   "skip_h1_title": false,
   "title_cell": "Table of Contents",
   "title_sidebar": "Contents",
   "toc_cell": false,
   "toc_position": {},
   "toc_section_display": true,
   "toc_window_display": false
  },
  "vscode": {
   "interpreter": {
    "hash": "31f2aee4e71d21fbe5cf8b01ff0e069b9275f58929596ceb00d14d90e3e16cd6"
   }
  }
 },
 "nbformat": 4,
 "nbformat_minor": 5
}
