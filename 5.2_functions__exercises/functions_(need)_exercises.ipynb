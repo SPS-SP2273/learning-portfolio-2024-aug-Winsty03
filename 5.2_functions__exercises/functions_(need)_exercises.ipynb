{
 "cells": [
  {
   "cell_type": "markdown",
   "id": "123456",
   "metadata": {},
   "source": [
    "<div style=\"text-align:left;font-size:2em\"><span style=\"font-weight:bolder;font-size:1.25em\">SP2273 | Learning Portfolio</span><br><br><span style=\"font-weight:bold;color:darkred\">Functions (Need) Exercises</span></div>"
   ]
  },
  {
   "cell_type": "markdown",
   "id": "cd221fa1",
   "metadata": {},
   "source": [
    "**Exercise 1**"
   ]
  },
  {
   "cell_type": "code",
   "execution_count": 3,
   "id": "d9529c04",
   "metadata": {},
   "outputs": [
    {
     "data": {
      "text/plain": [
       "'Hello Batman! So, nice to meet you!'"
      ]
     },
     "execution_count": 3,
     "metadata": {},
     "output_type": "execute_result"
    }
   ],
   "source": [
    "def greeting(name):\n",
    "    if name == 'Batman':\n",
    "        return 'Hello Batman! So, nice to meet you!'\n",
    "    return f'Hello {name}!'\n",
    "\n",
    "greeting('Batman')"
   ]
  },
  {
   "cell_type": "markdown",
   "id": "3db541b2",
   "metadata": {},
   "source": [
    "The code works as a new function called \"greeting\" has been defined and it takes in an argument called \"name\". Hence, whatever input is given to the greeting fucntion will return a value which falls under f'Hello{name}! or if the argument is 'Batman', it will return the other string of text. "
   ]
  },
  {
   "cell_type": "markdown",
   "id": "f4dad97b",
   "metadata": {},
   "source": [
    "**Exercise 2**"
   ]
  },
  {
   "cell_type": "code",
   "execution_count": 3,
   "id": "dd9a9ca1",
   "metadata": {},
   "outputs": [
    {
     "name": "stdout",
     "output_type": "stream",
     "text": [
      "Weight in kg:55\n",
      "Height in meters:1.68\n",
      "Normal Weight\n"
     ]
    }
   ],
   "source": [
    "def calculate_bmi(weight, height):\n",
    "    BMI = weight / (height**2)\n",
    "    if BMI < 18.5:\n",
    "        return 'Underweight'\n",
    "    elif 18.5 <= BMI <= 24.9:\n",
    "        return 'Normal Weight'\n",
    "    elif 25 <= BMI <= 29.9:\n",
    "        return 'Overweight'\n",
    "    else: \n",
    "        return 'Obese'  \n",
    "try:    \n",
    "    weight = float(input(\"Weight in kg:\"))\n",
    "except ValueError:\n",
    "    print(\"Key in a number!\")\n",
    "try:\n",
    "    height = float(input(\"Height in meters:\"))\n",
    "    print(calculate_bmi(weight,height))\n",
    "except ValueError:\n",
    "    print(\"Height is in meters!\")\n",
    "    "
   ]
  },
  {
   "cell_type": "markdown",
   "id": "cf8ebb9c",
   "metadata": {},
   "source": [
    "**Exercise 3**"
   ]
  },
  {
   "cell_type": "code",
   "execution_count": 32,
   "id": "2472d67c",
   "metadata": {},
   "outputs": [
    {
     "name": "stdout",
     "output_type": "stream",
     "text": [
      "Key in an integer:4\n",
      "4! = 24\n"
     ]
    }
   ],
   "source": [
    "def factorial(n):\n",
    "    if n < 0:\n",
    "        return \"Invalid input\"\n",
    "    elif n == 0:\n",
    "        return 1\n",
    "    else:\n",
    "        result = 1\n",
    "        for number in range(1, n+1):\n",
    "            result *= number\n",
    "        return result\n",
    "        \n",
    "try:\n",
    "    user_input = int(input(\"Key in an integer:\"))\n",
    "    print(str(user_input) + \"!\", \"=\", factorial(user_input))\n",
    "except ValueError:\n",
    "    print(\"Key in an integer!\")"
   ]
  }
 ],
 "metadata": {
  "kernelspec": {
   "display_name": "Python 3 (ipykernel)",
   "language": "python",
   "name": "python3"
  },
  "language_info": {
   "codemirror_mode": {
    "name": "ipython",
    "version": 3
   },
   "file_extension": ".py",
   "mimetype": "text/x-python",
   "name": "python",
   "nbconvert_exporter": "python",
   "pygments_lexer": "ipython3",
   "version": "3.12.3"
  },
  "toc": {
   "base_numbering": 1,
   "nav_menu": {},
   "number_sections": true,
   "sideBar": true,
   "skip_h1_title": false,
   "title_cell": "Table of Contents",
   "title_sidebar": "Contents",
   "toc_cell": false,
   "toc_position": {},
   "toc_section_display": true,
   "toc_window_display": false
  },
  "vscode": {
   "interpreter": {
    "hash": "31f2aee4e71d21fbe5cf8b01ff0e069b9275f58929596ceb00d14d90e3e16cd6"
   }
  }
 },
 "nbformat": 4,
 "nbformat_minor": 5
}
