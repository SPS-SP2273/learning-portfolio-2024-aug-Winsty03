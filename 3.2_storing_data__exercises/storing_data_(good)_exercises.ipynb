{
 "cells": [
  {
   "cell_type": "markdown",
   "id": "123456",
   "metadata": {},
   "source": [
    "<div style=\"text-align:left;font-size:2em\"><span style=\"font-weight:bolder;font-size:1.25em\">SP2273 | Learning Portfolio</span><br><br><span style=\"font-weight:bold;color:darkred\">Storing Data (Good) Exercises</span></div>"
   ]
  },
  {
   "cell_type": "markdown",
   "id": "5c53bd94",
   "metadata": {},
   "source": [
    "**Exercise 1**"
   ]
  },
  {
   "cell_type": "markdown",
   "id": "7a62b284",
   "metadata": {},
   "source": [
    "| **Term**   | **Brief Description**                                                                                         |\n",
    "|:-----------|:--------------------------------------------------------------------------------------------------------------|\n",
    "| Subsetting | Subsetting is the select variables in  a list of array.                                                       |\n",
    "| Indexing   | Indexing is the selection of 1 variable in the list or array.                                                 |\n",
    "| Slicing    | Slicing is the selection of a specified range of variables in a list or array.                                |\n",
    "| Masking    | Masking is to only show the desired variables according to the specific conditions stated in  an array only.  |"
   ]
  },
  {
   "cell_type": "markdown",
   "id": "1b8742d1",
   "metadata": {},
   "source": [
    "**Exercise 2**"
   ]
  },
  {
   "cell_type": "code",
   "execution_count": 19,
   "id": "0a118aaa",
   "metadata": {},
   "outputs": [
    {
     "name": "stdout",
     "output_type": "stream",
     "text": [
      "['A' 'C' 'E' 'G' 'I']\n"
     ]
    }
   ],
   "source": [
    "import numpy as np\n",
    "\n",
    "np_array_2d = np.array([[1, \"A\"], [3, \"C\"], [2, \"B\"], [4, \"D\"],\n",
    "                        [5, \"E\"], [7, \"G\"], [6, \"F\"], [8, \"H\"],\n",
    "                        [10, \"J\"], [9, \"I\"]])\n",
    "\n",
    "digit_array = np_array_2d[: , 0].astype('int')  #digit_array stores 1 to 8, 10, 9\n",
    "odd_letters = np_array_2d[(digit_array)%2 == 1 , 1]  #(digit_array)%2 == 1 gives the array with True and False \n",
    "print(odd_letters)"
   ]
  },
  {
   "cell_type": "markdown",
   "id": "2f022c81",
   "metadata": {},
   "source": [
    "**Exercise 3**"
   ]
  },
  {
   "cell_type": "code",
   "execution_count": 1,
   "id": "c83dba59",
   "metadata": {},
   "outputs": [
    {
     "name": "stdout",
     "output_type": "stream",
     "text": [
      "[[ 1  0  1 -1 -1]\n",
      " [ 1 -1  1 -1 -1]\n",
      " [ 1 -1 -1  1 -1]\n",
      " [-1  1  1 -1 -1]\n",
      " [ 1 -1  1 -1  1]]\n"
     ]
    }
   ],
   "source": [
    "import numpy as np\n",
    "\n",
    "np_array_2d = np.array([[66, 50, 57, -1, -1],\n",
    "                        [92, -1, 88, -1, -1],\n",
    "                        [75, -1, -1, 76, -1],\n",
    "                        [-1, 51, 87, -1, -1],\n",
    "                        [71, -1, 67, -1, 69]])\n",
    "\n",
    "for i in range(len(np_array_2d)):\n",
    "    for j in range(len(np_array_2d)):\n",
    "        if np_array_2d[i , j] < 50:\n",
    "            np_array_2d[i , j] = -1\n",
    "        elif  np_array_2d[i , j] > 50:\n",
    "            np_array_2d[i , j] = 1\n",
    "        else:\n",
    "            np_array_2d[i , j] = 0\n",
    "        \n",
    "print(np_array_2d)"
   ]
  }
 ],
 "metadata": {
  "kernelspec": {
   "display_name": "Python 3 (ipykernel)",
   "language": "python",
   "name": "python3"
  },
  "language_info": {
   "codemirror_mode": {
    "name": "ipython",
    "version": 3
   },
   "file_extension": ".py",
   "mimetype": "text/x-python",
   "name": "python",
   "nbconvert_exporter": "python",
   "pygments_lexer": "ipython3",
   "version": "3.12.3"
  },
  "toc": {
   "base_numbering": 1,
   "nav_menu": {},
   "number_sections": true,
   "sideBar": true,
   "skip_h1_title": false,
   "title_cell": "Table of Contents",
   "title_sidebar": "Contents",
   "toc_cell": false,
   "toc_position": {},
   "toc_section_display": true,
   "toc_window_display": false
  },
  "vscode": {
   "interpreter": {
    "hash": "31f2aee4e71d21fbe5cf8b01ff0e069b9275f58929596ceb00d14d90e3e16cd6"
   }
  }
 },
 "nbformat": 4,
 "nbformat_minor": 5
}
