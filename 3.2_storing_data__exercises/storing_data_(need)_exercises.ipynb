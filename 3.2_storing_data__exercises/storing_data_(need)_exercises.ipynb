{
 "cells": [
  {
   "cell_type": "markdown",
   "id": "123456",
   "metadata": {},
   "source": [
    "<div style=\"text-align:left;font-size:2em\"><span style=\"font-weight:bolder;font-size:1.25em\">SP2273 | Learning Portfolio</span><br><br><span style=\"font-weight:bold;color:darkred\">Storing Data (Need) Exercises</span></div>"
   ]
  },
  {
   "cell_type": "markdown",
   "id": "eeae7f93",
   "metadata": {},
   "source": [
    "**Exercise 1**"
   ]
  },
  {
   "cell_type": "markdown",
   "id": "8bd25c84",
   "metadata": {},
   "source": [
    "1. Datas in lists and arrays labelling starts from 0 for the first variable. (*zero-based index*) and Both lists and arrays can have additional variables added to it at any time using the insert() function. \n",
    "\n",
    "2. The first difference is that Arrays can only store 1 data type, while Lists are able to store multiple different data types. Secondly, mathemathical operations act on each individual variable in an Array, while operations on a List acts on the List in as a whole.\n",
    "\n",
    "3. A dictionary is a method of storing data where the variables are grouped into a key-value pairs, where the variable tagged as the key can lead to the correspodning variable tagged as the value. "
   ]
  },
  {
   "cell_type": "markdown",
   "id": "688ac08a",
   "metadata": {},
   "source": [
    "**Exercise 2**"
   ]
  },
  {
   "cell_type": "code",
   "execution_count": 1,
   "id": "c22b64af",
   "metadata": {},
   "outputs": [
    {
     "name": "stdout",
     "output_type": "stream",
     "text": [
      "a1\n",
      "c3\n",
      "e5\n",
      "g7\n",
      "i9\n"
     ]
    }
   ],
   "source": [
    "py_list = [\"a1\", \"b2\", \"c3\", \"d4\", \"e5\", \"f6\", \"g7\", \"h8\", \"i9\", \"j10\"]\n",
    "print(py_list[0])   # Prints 'a1'\n",
    "print(py_list[2])   # Prints 'c3'\n",
    "print(py_list[4])   # Prints 'e5'\n",
    "print(py_list[6])   # Prints 'g7'\n",
    "print(py_list[8])   # Prints 'i9'"
   ]
  },
  {
   "cell_type": "markdown",
   "id": "90fe0765",
   "metadata": {},
   "source": [
    "**Exercise 3**"
   ]
  },
  {
   "cell_type": "code",
   "execution_count": 4,
   "id": "cd61250d",
   "metadata": {},
   "outputs": [
    {
     "name": "stdout",
     "output_type": "stream",
     "text": [
      "Boron\n",
      "Boron\n"
     ]
    }
   ],
   "source": [
    "elements = ['Hydrogen',\n",
    "            'Helium', 'Lithium',\n",
    "            'Beryllium', 'Boron', 'Carbon',\n",
    "            'Nitrogen', 'Oxygen',\n",
    "            'Fluorine',\n",
    "            'Neon']\n",
    "print(elements[4])\n",
    "print(elements[-6])"
   ]
  },
  {
   "cell_type": "markdown",
   "id": "9e58c324",
   "metadata": {},
   "source": [
    "**Exercise 4**"
   ]
  },
  {
   "cell_type": "code",
   "execution_count": 19,
   "id": "15e2d177",
   "metadata": {},
   "outputs": [
    {
     "name": "stdout",
     "output_type": "stream",
     "text": [
      "9\n"
     ]
    }
   ],
   "source": [
    "import numpy as np\n",
    "\n",
    "numbers=[45, 60, 1, 30, 96, 1, 96, 57, 16, 1,\n",
    "        99, 62, 86, 43, 42, 60, 59, 1, 1, 35,\n",
    "        83, 47, 34, 28, 68, 23, 22, 92, 1, 79,\n",
    "        1, 29, 94, 72, 46, 47, 1, 74, 32, 20,\n",
    "        8, 37, 35, 1, 89, 29, 86, 19, 43, 61]\n",
    "\n",
    "many_numbers = np.array(numbers)\n",
    "counter = 0\n",
    "for i in many_numbers == 1:\n",
    "    if i == True:\n",
    "        counter +=1\n",
    "\n",
    "print(counter)"
   ]
  },
  {
   "cell_type": "markdown",
   "id": "b62da623",
   "metadata": {},
   "source": [
    "**Exercise 5**"
   ]
  },
  {
   "cell_type": "code",
   "execution_count": 32,
   "id": "e0666eb9",
   "metadata": {},
   "outputs": [
    {
     "name": "stdout",
     "output_type": "stream",
     "text": [
      "The mean of x_1 is 38.5\n",
      "The mean of x_2 is 302.5\n",
      "The standard deviation of x_1 is 32.41990129534635\n",
      "The standard deviation of x_2 is 326.0893282522444\n",
      "The Pearson correlation coefficient, r is 0.9871796626270701\n",
      "The results to np.corrcoef() is [[1.         0.98717966]\n",
      " [0.98717966 1.        ]]\n"
     ]
    }
   ],
   "source": [
    "import numpy as np\n",
    "\n",
    "x_1 = np.array([1, 4, 9, 16, 25, 36, 49, 64, 81, 100])\n",
    "x_2 = np.array([1, 8, 27, 64, 125, 216, 343, 512, 729, 1000])\n",
    "\n",
    "mean_x_1 = np.mean(x_1)\n",
    "mean_x_2 = np.mean(x_2)\n",
    "\n",
    "print(\"The mean of x_1 is\" ,mean_x_1)\n",
    "print(\"The mean of x_2 is\", mean_x_2)\n",
    "\n",
    "np.std(x_1)\n",
    "np.std(x_2)\n",
    "\n",
    "print(\"The standard deviation of x_1 is\", np.std(x_1))\n",
    "print(\"The standard deviation of x_2 is\", np.std(x_2))\n",
    "\n",
    "numerator = np.sum(( (x_1) - (mean_x_1) )*( (x_2) - (mean_x_2) ))\n",
    "denominator = np.sqrt(np.sum( ((x_1) - (mean_x_1))**2)*(np.sum( ((x_2) - (mean_x_2))**2) ))\n",
    "r = numerator/denominator\n",
    "print(\"The Pearson correlation coefficient, r is\", r)\n",
    "print(\"The results to np.corrcoef() is\", np.corrcoef(x_1, x_2))"
   ]
  }
 ],
 "metadata": {
  "kernelspec": {
   "display_name": "Python 3 (ipykernel)",
   "language": "python",
   "name": "python3"
  },
  "language_info": {
   "codemirror_mode": {
    "name": "ipython",
    "version": 3
   },
   "file_extension": ".py",
   "mimetype": "text/x-python",
   "name": "python",
   "nbconvert_exporter": "python",
   "pygments_lexer": "ipython3",
   "version": "3.12.3"
  },
  "toc": {
   "base_numbering": 1,
   "nav_menu": {},
   "number_sections": true,
   "sideBar": true,
   "skip_h1_title": false,
   "title_cell": "Table of Contents",
   "title_sidebar": "Contents",
   "toc_cell": false,
   "toc_position": {},
   "toc_section_display": true,
   "toc_window_display": false
  },
  "vscode": {
   "interpreter": {
    "hash": "31f2aee4e71d21fbe5cf8b01ff0e069b9275f58929596ceb00d14d90e3e16cd6"
   }
  }
 },
 "nbformat": 4,
 "nbformat_minor": 5
}
